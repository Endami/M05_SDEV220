{
 "cells": [
  {
   "cell_type": "code",
   "execution_count": null,
   "id": "05a4a3f8-53af-44b7-a87e-28f22ca62486",
   "metadata": {},
   "outputs": [],
   "source": [
    "assert sum([1, 2, 3]) == 6, \"Should be 6\"\n"
   ]
  },
  {
   "cell_type": "code",
   "execution_count": null,
   "id": "378758b7-9b8f-4b69-8726-5e7c68b2c4bc",
   "metadata": {},
   "outputs": [],
   "source": [
    "assert sum([1, 1, 1]) == 6, \"Should be 6\"\n"
   ]
  },
  {
   "cell_type": "code",
   "execution_count": null,
   "id": "1fea5fd4-12d6-422e-a61a-ea73d42d82bd",
   "metadata": {},
   "outputs": [],
   "source": [
    "def test_sum():\n",
    "    assert sum([1, 2, 3]) == 6, \"Should be 6\""
   ]
  },
  {
   "cell_type": "code",
   "execution_count": null,
   "id": "ef006594-35e3-48fe-b98a-4817e8df66f3",
   "metadata": {},
   "outputs": [],
   "source": [
    "if __name__ == \"__main__\":\n",
    "    test_sum()\n",
    "    print(\"Everything passed\")"
   ]
  },
  {
   "cell_type": "code",
   "execution_count": null,
   "id": "b341b163-1486-44f9-8234-0c6adbbb5943",
   "metadata": {},
   "outputs": [],
   "source": [
    "def test_sum():\n",
    "    assert sum([1, 2, 3]) == 6, \"Should be 6\""
   ]
  },
  {
   "cell_type": "code",
   "execution_count": null,
   "id": "fa3d8471-d15e-41b9-982d-1ed5c5921b54",
   "metadata": {},
   "outputs": [],
   "source": [
    "def test_sum_tuple():\n",
    "    assert sum((1, 2, 2)) == 6, \"Should be 6\""
   ]
  },
  {
   "cell_type": "code",
   "execution_count": null,
   "id": "62af4ab3-e451-45cf-8d17-ce854281503c",
   "metadata": {},
   "outputs": [],
   "source": [
    "if __name__ == \"__main__\":\n",
    "    test_sum()\n",
    "    test_sum_tuple()\n",
    "    print(\"Everything passed\")"
   ]
  },
  {
   "cell_type": "code",
   "execution_count": null,
   "id": "1c30106e-3579-4e3e-aafd-3f664f77aec0",
   "metadata": {},
   "outputs": [],
   "source": [
    "import unittest\n"
   ]
  },
  {
   "cell_type": "code",
   "execution_count": null,
   "id": "fabdae53-8fdd-40b4-9bf9-5d6437699872",
   "metadata": {},
   "outputs": [],
   "source": [
    "class TestSum(unittest.TestCase):\n",
    "\n",
    "    def test_sum(self):\n",
    "        self.assertEqual(sum([1, 2, 3]), 6, \"Should be 6\")\n",
    "\n",
    "    def test_sum_tuple(self):\n",
    "        self.assertEqual(sum((1, 2, 2)), 6, \"Should be 6\")\n",
    "\n",
    "if __name__ == '__main__':\n",
    "    unittest.main()\n",
    "\n",
    "\n",
    "def test_sum():\n",
    "    assert sum([1, 2, 3]) == 6, \"Should be 6\"\n",
    "\n",
    "def test_sum_tuple():\n",
    "    assert sum((1, 2, 2)) == 6, \"Should be 6\"\n"
   ]
  },
  {
   "cell_type": "code",
   "execution_count": null,
   "id": "7d946d78-f982-41b4-b18f-c8a852f5945d",
   "metadata": {},
   "outputs": [],
   "source": [
    "def sum(arg):\n",
    "    total = 0\n",
    "    for val in arg:\n",
    "        total += val\n",
    "    return total"
   ]
  },
  {
   "cell_type": "code",
   "execution_count": null,
   "id": "80ee5dcb-039b-42a2-b069-8e981909b00f",
   "metadata": {},
   "outputs": [],
   "source": [
    "import unittest\n",
    "from fractions import Fraction\n",
    "from my_sum import sum\n",
    "\n",
    "\n",
    "class TestSum(unittest.TestCase):\n",
    "    def test_list_int(self):\n",
    "        \"\"\"\n",
    "        Test that it can sum a list of integers\n",
    "        \"\"\"\n",
    "        data = [1, 2, 3]\n",
    "        result = sum(data)\n",
    "        self.assertEqual(result, 6)\n",
    "\n",
    "def test_list_fraction(self):\n",
    "        \"\"\"\n",
    "        Test that it can sum a list of fractions\n",
    "        \"\"\"\n",
    "        data = [Fraction(1, 4), Fraction(1, 4), Fraction(2, 5)]\n",
    "        result = sum(data)\n",
    "        self.assertEqual(result, 1)\n",
    "        \n",
    "if __name__ == '__main__':\n",
    "    unittest.main()"
   ]
  },
  {
   "cell_type": "code",
   "execution_count": null,
   "id": "afd89e09-304b-4357-a602-29cdad47912b",
   "metadata": {},
   "outputs": [],
   "source": [
    "With the tests executing but some of them failing it shows me that there is error in the code that is not being addresed"
   ]
  }
 ],
 "metadata": {
  "kernelspec": {
   "display_name": "Python 3 (ipykernel)",
   "language": "python",
   "name": "python3"
  },
  "language_info": {
   "codemirror_mode": {
    "name": "ipython",
    "version": 3
   },
   "file_extension": ".py",
   "mimetype": "text/x-python",
   "name": "python",
   "nbconvert_exporter": "python",
   "pygments_lexer": "ipython3",
   "version": "3.11.7"
  }
 },
 "nbformat": 4,
 "nbformat_minor": 5
}
